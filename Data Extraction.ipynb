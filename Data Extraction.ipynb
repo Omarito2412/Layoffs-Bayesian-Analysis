{
 "cells": [
  {
   "cell_type": "markdown",
   "id": "b95bb0da",
   "metadata": {},
   "source": [
    "# Data Extraction\n",
    "## Building a dataset for analysis\n",
    "The goal of this notebook is to build a dataset that we can base our analysis on.\n",
    "\n",
    "The idea is that if we can have enough data and factors (variables/features), we can actually interpret the probability of a company laying off employees, maybe even predict the size of the layoff.\n",
    "\n",
    "Also based on this attribution, we can as well predict if a company is stable enough after a wave of layoffs or will it need a deeper cut.\n",
    "\n",
    "The first data set we use is the layoffs data from layoffs.fyi, we can find it on Kaggle at: https://www.kaggle.com/datasets/swaptr/layoffs-2022\n",
    "\n",
    "Let's load this dataset and see what details do we still need."
   ]
  },
  {
   "cell_type": "markdown",
   "id": "1c81293f",
   "metadata": {},
   "source": [
    "### Exploratoray Data Analysis"
   ]
  },
  {
   "cell_type": "code",
   "execution_count": 1,
   "id": "1448dec9",
   "metadata": {},
   "outputs": [],
   "source": [
    "import pandas as pd\n",
    "import seaborn as sns\n",
    "import matplotlib.pyplot as plt"
   ]
  },
  {
   "cell_type": "code",
   "execution_count": 2,
   "id": "6ed45275",
   "metadata": {},
   "outputs": [],
   "source": [
    "layoffs = pd.read_csv(\"layoffs.csv\")"
   ]
  },
  {
   "cell_type": "code",
   "execution_count": 3,
   "id": "21bb97d8",
   "metadata": {},
   "outputs": [
    {
     "data": {
      "text/html": [
       "<div>\n",
       "<style scoped>\n",
       "    .dataframe tbody tr th:only-of-type {\n",
       "        vertical-align: middle;\n",
       "    }\n",
       "\n",
       "    .dataframe tbody tr th {\n",
       "        vertical-align: top;\n",
       "    }\n",
       "\n",
       "    .dataframe thead th {\n",
       "        text-align: right;\n",
       "    }\n",
       "</style>\n",
       "<table border=\"1\" class=\"dataframe\">\n",
       "  <thead>\n",
       "    <tr style=\"text-align: right;\">\n",
       "      <th></th>\n",
       "      <th>company</th>\n",
       "      <th>location</th>\n",
       "      <th>industry</th>\n",
       "      <th>total_laid_off</th>\n",
       "      <th>percentage_laid_off</th>\n",
       "      <th>date</th>\n",
       "      <th>stage</th>\n",
       "      <th>country</th>\n",
       "      <th>funds_raised</th>\n",
       "    </tr>\n",
       "  </thead>\n",
       "  <tbody>\n",
       "    <tr>\n",
       "      <th>0</th>\n",
       "      <td>Zomato</td>\n",
       "      <td>Gurugram</td>\n",
       "      <td>Food</td>\n",
       "      <td>100.0</td>\n",
       "      <td>0.04</td>\n",
       "      <td>2022-11-19</td>\n",
       "      <td>Series J</td>\n",
       "      <td>India</td>\n",
       "      <td>914.0</td>\n",
       "    </tr>\n",
       "    <tr>\n",
       "      <th>1</th>\n",
       "      <td>Carvana</td>\n",
       "      <td>Phoenix</td>\n",
       "      <td>Transportation</td>\n",
       "      <td>1500.0</td>\n",
       "      <td>0.08</td>\n",
       "      <td>2022-11-18</td>\n",
       "      <td>IPO</td>\n",
       "      <td>United States</td>\n",
       "      <td>1600.0</td>\n",
       "    </tr>\n",
       "    <tr>\n",
       "      <th>2</th>\n",
       "      <td>Nuro</td>\n",
       "      <td>SF Bay Area</td>\n",
       "      <td>Transportation</td>\n",
       "      <td>300.0</td>\n",
       "      <td>0.20</td>\n",
       "      <td>2022-11-18</td>\n",
       "      <td>Series D</td>\n",
       "      <td>United States</td>\n",
       "      <td>2100.0</td>\n",
       "    </tr>\n",
       "    <tr>\n",
       "      <th>3</th>\n",
       "      <td>Kavak</td>\n",
       "      <td>Sao Paulo</td>\n",
       "      <td>Transportation</td>\n",
       "      <td>NaN</td>\n",
       "      <td>NaN</td>\n",
       "      <td>2022-11-18</td>\n",
       "      <td>Series E</td>\n",
       "      <td>Brazil</td>\n",
       "      <td>1600.0</td>\n",
       "    </tr>\n",
       "    <tr>\n",
       "      <th>4</th>\n",
       "      <td>Metaplex</td>\n",
       "      <td>Chicago</td>\n",
       "      <td>Crypto</td>\n",
       "      <td>NaN</td>\n",
       "      <td>NaN</td>\n",
       "      <td>2022-11-18</td>\n",
       "      <td>Unknown</td>\n",
       "      <td>United States</td>\n",
       "      <td>NaN</td>\n",
       "    </tr>\n",
       "    <tr>\n",
       "      <th>...</th>\n",
       "      <td>...</td>\n",
       "      <td>...</td>\n",
       "      <td>...</td>\n",
       "      <td>...</td>\n",
       "      <td>...</td>\n",
       "      <td>...</td>\n",
       "      <td>...</td>\n",
       "      <td>...</td>\n",
       "      <td>...</td>\n",
       "    </tr>\n",
       "    <tr>\n",
       "      <th>1646</th>\n",
       "      <td>Service</td>\n",
       "      <td>Los Angeles</td>\n",
       "      <td>Travel</td>\n",
       "      <td>NaN</td>\n",
       "      <td>1.00</td>\n",
       "      <td>2020-03-16</td>\n",
       "      <td>Seed</td>\n",
       "      <td>United States</td>\n",
       "      <td>5.1</td>\n",
       "    </tr>\n",
       "    <tr>\n",
       "      <th>1647</th>\n",
       "      <td>HopSkipDrive</td>\n",
       "      <td>Los Angeles</td>\n",
       "      <td>Transportation</td>\n",
       "      <td>8.0</td>\n",
       "      <td>0.10</td>\n",
       "      <td>2020-03-13</td>\n",
       "      <td>Unknown</td>\n",
       "      <td>United States</td>\n",
       "      <td>45.0</td>\n",
       "    </tr>\n",
       "    <tr>\n",
       "      <th>1648</th>\n",
       "      <td>Panda Squad</td>\n",
       "      <td>SF Bay Area</td>\n",
       "      <td>Consumer</td>\n",
       "      <td>6.0</td>\n",
       "      <td>0.75</td>\n",
       "      <td>2020-03-13</td>\n",
       "      <td>Seed</td>\n",
       "      <td>United States</td>\n",
       "      <td>1.0</td>\n",
       "    </tr>\n",
       "    <tr>\n",
       "      <th>1649</th>\n",
       "      <td>Tamara Mellon</td>\n",
       "      <td>Los Angeles</td>\n",
       "      <td>Retail</td>\n",
       "      <td>20.0</td>\n",
       "      <td>0.40</td>\n",
       "      <td>2020-03-12</td>\n",
       "      <td>Series C</td>\n",
       "      <td>United States</td>\n",
       "      <td>90.0</td>\n",
       "    </tr>\n",
       "    <tr>\n",
       "      <th>1650</th>\n",
       "      <td>EasyPost</td>\n",
       "      <td>Salt Lake City</td>\n",
       "      <td>Logistics</td>\n",
       "      <td>75.0</td>\n",
       "      <td>NaN</td>\n",
       "      <td>2020-03-11</td>\n",
       "      <td>Series A</td>\n",
       "      <td>United States</td>\n",
       "      <td>12.0</td>\n",
       "    </tr>\n",
       "  </tbody>\n",
       "</table>\n",
       "<p>1651 rows × 9 columns</p>\n",
       "</div>"
      ],
      "text/plain": [
       "            company        location        industry  total_laid_off  \\\n",
       "0            Zomato        Gurugram            Food           100.0   \n",
       "1           Carvana         Phoenix  Transportation          1500.0   \n",
       "2              Nuro     SF Bay Area  Transportation           300.0   \n",
       "3             Kavak       Sao Paulo  Transportation             NaN   \n",
       "4          Metaplex         Chicago          Crypto             NaN   \n",
       "...             ...             ...             ...             ...   \n",
       "1646        Service     Los Angeles          Travel             NaN   \n",
       "1647   HopSkipDrive     Los Angeles  Transportation             8.0   \n",
       "1648    Panda Squad     SF Bay Area        Consumer             6.0   \n",
       "1649  Tamara Mellon     Los Angeles          Retail            20.0   \n",
       "1650       EasyPost  Salt Lake City       Logistics            75.0   \n",
       "\n",
       "      percentage_laid_off        date     stage        country  funds_raised  \n",
       "0                    0.04  2022-11-19  Series J          India         914.0  \n",
       "1                    0.08  2022-11-18       IPO  United States        1600.0  \n",
       "2                    0.20  2022-11-18  Series D  United States        2100.0  \n",
       "3                     NaN  2022-11-18  Series E         Brazil        1600.0  \n",
       "4                     NaN  2022-11-18   Unknown  United States           NaN  \n",
       "...                   ...         ...       ...            ...           ...  \n",
       "1646                 1.00  2020-03-16      Seed  United States           5.1  \n",
       "1647                 0.10  2020-03-13   Unknown  United States          45.0  \n",
       "1648                 0.75  2020-03-13      Seed  United States           1.0  \n",
       "1649                 0.40  2020-03-12  Series C  United States          90.0  \n",
       "1650                  NaN  2020-03-11  Series A  United States          12.0  \n",
       "\n",
       "[1651 rows x 9 columns]"
      ]
     },
     "execution_count": 3,
     "metadata": {},
     "output_type": "execute_result"
    }
   ],
   "source": [
    "layoffs"
   ]
  },
  {
   "cell_type": "markdown",
   "id": "c67371ec",
   "metadata": {},
   "source": [
    "Let's see how many entries are missing layoff data"
   ]
  },
  {
   "cell_type": "code",
   "execution_count": 4,
   "id": "0b735308",
   "metadata": {},
   "outputs": [
    {
     "data": {
      "text/plain": [
       "476"
      ]
     },
     "execution_count": 4,
     "metadata": {},
     "output_type": "execute_result"
    }
   ],
   "source": [
    "layoffs[\"total_laid_off\"].isna().sum()"
   ]
  },
  {
   "cell_type": "code",
   "execution_count": 5,
   "id": "11ffe562",
   "metadata": {},
   "outputs": [
    {
     "data": {
      "text/plain": [
       "546"
      ]
     },
     "execution_count": 5,
     "metadata": {},
     "output_type": "execute_result"
    }
   ],
   "source": [
    "layoffs[\"percentage_laid_off\"].isna().sum()"
   ]
  },
  {
   "cell_type": "code",
   "execution_count": 6,
   "id": "a3fb3bb5",
   "metadata": {},
   "outputs": [
    {
     "data": {
      "text/plain": [
       "244"
      ]
     },
     "execution_count": 6,
     "metadata": {},
     "output_type": "execute_result"
    }
   ],
   "source": [
    "layoffs[(layoffs[\"total_laid_off\"].isna()) & (layoffs[\"percentage_laid_off\"].isna())].shape[0]"
   ]
  },
  {
   "cell_type": "markdown",
   "id": "4e1a87f0",
   "metadata": {},
   "source": [
    "What about countries affected?"
   ]
  },
  {
   "cell_type": "code",
   "execution_count": 7,
   "id": "3dea5f7b",
   "metadata": {},
   "outputs": [
    {
     "data": {
      "text/plain": [
       "<AxesSubplot:xlabel='country'>"
      ]
     },
     "execution_count": 7,
     "metadata": {},
     "output_type": "execute_result"
    },
    {
     "data": {
      "image/png": "[encoded data removed]",
      "text/plain": [
       "<Figure size 640x480 with 1 Axes>"
      ]
     },
     "metadata": {},
     "output_type": "display_data"
    }
   ],
   "source": [
    "layoffs.groupby(\"country\")[\"total_laid_off\"].count().sort_values(ascending=False).head(n=15).plot(kind=\"bar\")"
   ]
  },
  {
   "cell_type": "markdown",
   "id": "4b8755bf",
   "metadata": {},
   "source": [
    "Looks like a huge proportion of the layoffs happened in the US, let's see how many employees were affected per country"
   ]
  },
  {
   "cell_type": "code",
   "execution_count": 8,
   "id": "3a9a9cac",
   "metadata": {},
   "outputs": [
    {
     "data": {
      "text/plain": [
       "<AxesSubplot:xlabel='country'>"
      ]
     },
     "execution_count": 8,
     "metadata": {},
     "output_type": "execute_result"
    },
    {
     "data": {
      "image/png": "[encoded data removed]",
      "text/plain": [
       "<Figure size 640x480 with 1 Axes>"
      ]
     },
     "metadata": {},
     "output_type": "display_data"
    }
   ],
   "source": [
    "layoffs.groupby(\"country\")[\"total_laid_off\"].sum().sort_values(ascending=False).head(n=15).plot(kind=\"bar\")"
   ]
  },
  {
   "cell_type": "markdown",
   "id": "0b79393a",
   "metadata": {},
   "source": [
    "How about the industries affected?"
   ]
  },
  {
   "cell_type": "code",
   "execution_count": 9,
   "id": "4122b714",
   "metadata": {},
   "outputs": [
    {
     "data": {
      "text/plain": [
       "<AxesSubplot:xlabel='industry'>"
      ]
     },
     "execution_count": 9,
     "metadata": {},
     "output_type": "execute_result"
    },
    {
     "data": {
      "image/png": "[encoded data removed]",
      "text/plain": [
       "<Figure size 640x480 with 1 Axes>"
      ]
     },
     "metadata": {},
     "output_type": "display_data"
    }
   ],
   "source": [
    "layoffs.groupby(\"industry\")[\"total_laid_off\"].sum().sort_values(ascending=False).head(n=15).plot(kind=\"bar\")"
   ]
  },
  {
   "cell_type": "markdown",
   "id": "c7967f7c",
   "metadata": {},
   "source": [
    "I'm interested in looking at the industries affected per year. I'd expect transporation and travel were hugely impacted in 2019/2020 but as the world started recovering from Covid things were better for them. On the contrary, I'd hypothesis that in 2022 industries like Finance, Crypto, Real Estate, Consumer would be the ones with the biggest hit"
   ]
  },
  {
   "cell_type": "code",
   "execution_count": 10,
   "id": "80187287",
   "metadata": {},
   "outputs": [
    {
     "data": {
      "text/plain": [
       "<AxesSubplot:title={'center':'Yearly layoffs in various industries world wide'}, xlabel='industry', ylabel='total_laid_off'>"
      ]
     },
     "execution_count": 10,
     "metadata": {},
     "output_type": "execute_result"
    },
    {
     "data": {
      "image/png": "[encoded data removed]",
      "text/plain": [
       "<Figure size 1400x1000 with 1 Axes>"
      ]
     },
     "metadata": {},
     "output_type": "display_data"
    }
   ],
   "source": [
    "# Courtesy of: https://www.kaggle.com/code/fnmalik2002/layoffs-2022-dataset-eda\n",
    "layoffs = layoffs.reset_index(drop=True)\n",
    "layoffs['date'] = pd.to_datetime(layoffs['date'])\n",
    "layoffs_industry = layoffs.groupby([ layoffs.industry, layoffs.date.dt.year]).sum()\n",
    "layoffs_industry = layoffs_industry.reset_index()\n",
    "\n",
    "plt.figure(figsize=(14, 10))\n",
    "plt.xticks(rotation=90)\n",
    "plt.title(\"Yearly layoffs in various industries world wide\")\n",
    "sns.set(style=\"white\", palette=\"Accent\", color_codes=True)\n",
    "\n",
    "sns.barplot(data=layoffs_industry.sort_values(by=['total_laid_off','date'], ascending=False), x=\"industry\", y=\"total_laid_off\", hue=\"date\")"
   ]
  },
  {
   "cell_type": "markdown",
   "id": "b1458b08",
   "metadata": {},
   "source": [
    "Maybe the absolute number of layoffs isn't so robust since it's relative to an industry's size.\n",
    "\n",
    "Let's instead look at the percentage laid off"
   ]
  },
  {
   "cell_type": "code",
   "execution_count": 11,
   "id": "2c279cd9",
   "metadata": {},
   "outputs": [
    {
     "data": {
      "text/plain": [
       "<AxesSubplot:title={'center':'Yearly percentage layoffs in various industries world wide'}, xlabel='industry', ylabel='percentage_laid_off'>"
      ]
     },
     "execution_count": 11,
     "metadata": {},
     "output_type": "execute_result"
    },
    {
     "data": {
      "image/png": "[encoded data removed]",
      "text/plain": [
       "<Figure size 1400x1000 with 1 Axes>"
      ]
     },
     "metadata": {},
     "output_type": "display_data"
    }
   ],
   "source": [
    "plt.figure(figsize=(14, 10))\n",
    "plt.xticks(rotation=90)\n",
    "plt.title(\"Yearly percentage layoffs in various industries world wide\")\n",
    "sns.set(style=\"white\", palette=\"Accent\", color_codes=True)\n",
    "\n",
    "sns.barplot(data=layoffs_industry.sort_values(by=['percentage_laid_off','date'], ascending=False), x=\"industry\", y=\"percentage_laid_off\", hue=\"date\")"
   ]
  },
  {
   "cell_type": "markdown",
   "id": "317d1507",
   "metadata": {},
   "source": [
    "So far everything looks good, however, we only have data about Layoffs, industry, and size.\n",
    "\n",
    "If we want to attribute layoffs to a possible economical cause we need to extract more data for each company's economical status\n",
    "\n",
    "Let's first see how many companies are in the data and out of which how many are public"
   ]
  },
  {
   "cell_type": "code",
   "execution_count": 12,
   "id": "d9811155",
   "metadata": {},
   "outputs": [
    {
     "data": {
      "text/plain": [
       "Uber             5\n",
       "Shopify          4\n",
       "WeWork           4\n",
       "Loft             4\n",
       "Gopuff           4\n",
       "                ..\n",
       "Wave             1\n",
       "OpenSea          1\n",
       "Cosuno           1\n",
       "Kiavi            1\n",
       "Tamara Mellon    1\n",
       "Name: company, Length: 1385, dtype: int64"
      ]
     },
     "execution_count": 12,
     "metadata": {},
     "output_type": "execute_result"
    }
   ],
   "source": [
    "layoffs[\"company\"].value_counts()"
   ]
  },
  {
   "cell_type": "code",
   "execution_count": 13,
   "id": "0b8a2618",
   "metadata": {},
   "outputs": [
    {
     "data": {
      "text/plain": [
       "229"
      ]
     },
     "execution_count": 13,
     "metadata": {},
     "output_type": "execute_result"
    }
   ],
   "source": [
    "layoffs[layoffs[\"stage\"] == \"IPO\"].shape[0]"
   ]
  },
  {
   "cell_type": "markdown",
   "id": "712284ab",
   "metadata": {},
   "source": [
    "So out of 1385 companies, 229 are public.\n",
    "\n",
    "Getting data for public companies is much easier than getting it for startups/private companies.\n",
    "\n",
    "Let's try to seek our sources"
   ]
  },
  {
   "cell_type": "code",
   "execution_count": 14,
   "id": "f3d14197",
   "metadata": {
    "scrolled": false
   },
   "outputs": [
    {
     "data": {
      "text/html": [
       "<div>\n",
       "<style scoped>\n",
       "    .dataframe tbody tr th:only-of-type {\n",
       "        vertical-align: middle;\n",
       "    }\n",
       "\n",
       "    .dataframe tbody tr th {\n",
       "        vertical-align: top;\n",
       "    }\n",
       "\n",
       "    .dataframe thead th {\n",
       "        text-align: right;\n",
       "    }\n",
       "</style>\n",
       "<table border=\"1\" class=\"dataframe\">\n",
       "  <thead>\n",
       "    <tr style=\"text-align: right;\">\n",
       "      <th></th>\n",
       "      <th>company</th>\n",
       "      <th>location</th>\n",
       "      <th>industry</th>\n",
       "      <th>total_laid_off</th>\n",
       "      <th>percentage_laid_off</th>\n",
       "      <th>date</th>\n",
       "      <th>stage</th>\n",
       "      <th>country</th>\n",
       "      <th>funds_raised</th>\n",
       "    </tr>\n",
       "  </thead>\n",
       "  <tbody>\n",
       "    <tr>\n",
       "      <th>0</th>\n",
       "      <td>Zomato</td>\n",
       "      <td>Gurugram</td>\n",
       "      <td>Food</td>\n",
       "      <td>100.0</td>\n",
       "      <td>0.04</td>\n",
       "      <td>2022-11-19</td>\n",
       "      <td>Series J</td>\n",
       "      <td>India</td>\n",
       "      <td>914.0</td>\n",
       "    </tr>\n",
       "    <tr>\n",
       "      <th>1</th>\n",
       "      <td>Carvana</td>\n",
       "      <td>Phoenix</td>\n",
       "      <td>Transportation</td>\n",
       "      <td>1500.0</td>\n",
       "      <td>0.08</td>\n",
       "      <td>2022-11-18</td>\n",
       "      <td>IPO</td>\n",
       "      <td>United States</td>\n",
       "      <td>1600.0</td>\n",
       "    </tr>\n",
       "    <tr>\n",
       "      <th>2</th>\n",
       "      <td>Nuro</td>\n",
       "      <td>SF Bay Area</td>\n",
       "      <td>Transportation</td>\n",
       "      <td>300.0</td>\n",
       "      <td>0.20</td>\n",
       "      <td>2022-11-18</td>\n",
       "      <td>Series D</td>\n",
       "      <td>United States</td>\n",
       "      <td>2100.0</td>\n",
       "    </tr>\n",
       "    <tr>\n",
       "      <th>3</th>\n",
       "      <td>Kavak</td>\n",
       "      <td>Sao Paulo</td>\n",
       "      <td>Transportation</td>\n",
       "      <td>NaN</td>\n",
       "      <td>NaN</td>\n",
       "      <td>2022-11-18</td>\n",
       "      <td>Series E</td>\n",
       "      <td>Brazil</td>\n",
       "      <td>1600.0</td>\n",
       "    </tr>\n",
       "    <tr>\n",
       "      <th>4</th>\n",
       "      <td>Metaplex</td>\n",
       "      <td>Chicago</td>\n",
       "      <td>Crypto</td>\n",
       "      <td>NaN</td>\n",
       "      <td>NaN</td>\n",
       "      <td>2022-11-18</td>\n",
       "      <td>Unknown</td>\n",
       "      <td>United States</td>\n",
       "      <td>NaN</td>\n",
       "    </tr>\n",
       "    <tr>\n",
       "      <th>...</th>\n",
       "      <td>...</td>\n",
       "      <td>...</td>\n",
       "      <td>...</td>\n",
       "      <td>...</td>\n",
       "      <td>...</td>\n",
       "      <td>...</td>\n",
       "      <td>...</td>\n",
       "      <td>...</td>\n",
       "      <td>...</td>\n",
       "    </tr>\n",
       "    <tr>\n",
       "      <th>1646</th>\n",
       "      <td>Service</td>\n",
       "      <td>Los Angeles</td>\n",
       "      <td>Travel</td>\n",
       "      <td>NaN</td>\n",
       "      <td>1.00</td>\n",
       "      <td>2020-03-16</td>\n",
       "      <td>Seed</td>\n",
       "      <td>United States</td>\n",
       "      <td>5.1</td>\n",
       "    </tr>\n",
       "    <tr>\n",
       "      <th>1647</th>\n",
       "      <td>HopSkipDrive</td>\n",
       "      <td>Los Angeles</td>\n",
       "      <td>Transportation</td>\n",
       "      <td>8.0</td>\n",
       "      <td>0.10</td>\n",
       "      <td>2020-03-13</td>\n",
       "      <td>Unknown</td>\n",
       "      <td>United States</td>\n",
       "      <td>45.0</td>\n",
       "    </tr>\n",
       "    <tr>\n",
       "      <th>1648</th>\n",
       "      <td>Panda Squad</td>\n",
       "      <td>SF Bay Area</td>\n",
       "      <td>Consumer</td>\n",
       "      <td>6.0</td>\n",
       "      <td>0.75</td>\n",
       "      <td>2020-03-13</td>\n",
       "      <td>Seed</td>\n",
       "      <td>United States</td>\n",
       "      <td>1.0</td>\n",
       "    </tr>\n",
       "    <tr>\n",
       "      <th>1649</th>\n",
       "      <td>Tamara Mellon</td>\n",
       "      <td>Los Angeles</td>\n",
       "      <td>Retail</td>\n",
       "      <td>20.0</td>\n",
       "      <td>0.40</td>\n",
       "      <td>2020-03-12</td>\n",
       "      <td>Series C</td>\n",
       "      <td>United States</td>\n",
       "      <td>90.0</td>\n",
       "    </tr>\n",
       "    <tr>\n",
       "      <th>1650</th>\n",
       "      <td>EasyPost</td>\n",
       "      <td>Salt Lake City</td>\n",
       "      <td>Logistics</td>\n",
       "      <td>75.0</td>\n",
       "      <td>NaN</td>\n",
       "      <td>2020-03-11</td>\n",
       "      <td>Series A</td>\n",
       "      <td>United States</td>\n",
       "      <td>12.0</td>\n",
       "    </tr>\n",
       "  </tbody>\n",
       "</table>\n",
       "<p>1651 rows × 9 columns</p>\n",
       "</div>"
      ],
      "text/plain": [
       "            company        location        industry  total_laid_off  \\\n",
       "0            Zomato        Gurugram            Food           100.0   \n",
       "1           Carvana         Phoenix  Transportation          1500.0   \n",
       "2              Nuro     SF Bay Area  Transportation           300.0   \n",
       "3             Kavak       Sao Paulo  Transportation             NaN   \n",
       "4          Metaplex         Chicago          Crypto             NaN   \n",
       "...             ...             ...             ...             ...   \n",
       "1646        Service     Los Angeles          Travel             NaN   \n",
       "1647   HopSkipDrive     Los Angeles  Transportation             8.0   \n",
       "1648    Panda Squad     SF Bay Area        Consumer             6.0   \n",
       "1649  Tamara Mellon     Los Angeles          Retail            20.0   \n",
       "1650       EasyPost  Salt Lake City       Logistics            75.0   \n",
       "\n",
       "      percentage_laid_off       date     stage        country  funds_raised  \n",
       "0                    0.04 2022-11-19  Series J          India         914.0  \n",
       "1                    0.08 2022-11-18       IPO  United States        1600.0  \n",
       "2                    0.20 2022-11-18  Series D  United States        2100.0  \n",
       "3                     NaN 2022-11-18  Series E         Brazil        1600.0  \n",
       "4                     NaN 2022-11-18   Unknown  United States           NaN  \n",
       "...                   ...        ...       ...            ...           ...  \n",
       "1646                 1.00 2020-03-16      Seed  United States           5.1  \n",
       "1647                 0.10 2020-03-13   Unknown  United States          45.0  \n",
       "1648                 0.75 2020-03-13      Seed  United States           1.0  \n",
       "1649                 0.40 2020-03-12  Series C  United States          90.0  \n",
       "1650                  NaN 2020-03-11  Series A  United States          12.0  \n",
       "\n",
       "[1651 rows x 9 columns]"
      ]
     },
     "execution_count": 14,
     "metadata": {},
     "output_type": "execute_result"
    }
   ],
   "source": [
    "layoffs"
   ]
  },
  {
   "cell_type": "markdown",
   "id": "649a8be1",
   "metadata": {},
   "source": [
    "### Public Companies Data"
   ]
  },
  {
   "cell_type": "code",
   "execution_count": 208,
   "id": "f1d7a414",
   "metadata": {},
   "outputs": [],
   "source": [
    "import requests\n",
    "import time\n",
    "\n",
    "def get_ticker(company_name):\n",
    "    user_agent_headers = {\n",
    "            'User-Agent': 'Mozilla/5.0 (Macintosh; Intel Mac OS X 10_10_1) AppleWebKit/537.36 (KHTML, like Gecko) Chrome/39.0.2171.95 Safari/537.36'}\n",
    "    url = f\"https://query2.finance.yahoo.com/v1/finance/search\"\n",
    "    params = {\"q\": company_name, \"lang\": \"en-US\", \"region\": \"US\"}\n",
    "    response = requests.get(url=url, headers=user_agent_headers, params=params)\n",
    "    data = response.json()\n",
    "    # A small wait time so the API won't block us\n",
    "    time.sleep(0.2)\n",
    "    if len(data[\"quotes\"]) > 0:\n",
    "        company_code = data['quotes'][0][\"symbol\"]\n",
    "        return company_code\n",
    "    else:\n",
    "        return None"
   ]
  },
  {
   "cell_type": "code",
   "execution_count": 209,
   "id": "f008effc",
   "metadata": {},
   "outputs": [],
   "source": [
    "name2ticker = {name: get_ticker(name) for name in layoffs[\"company\"].values}"
   ]
  },
  {
   "cell_type": "code",
   "execution_count": 229,
   "id": "222c53c0",
   "metadata": {},
   "outputs": [
    {
     "data": {
      "text/plain": [
       "470"
      ]
     },
     "execution_count": 229,
     "metadata": {},
     "output_type": "execute_result"
    }
   ],
   "source": [
    "len(list(filter(lambda x: name2ticker[x] is not None, list(name2ticker.keys()))))"
   ]
  },
  {
   "cell_type": "markdown",
   "id": "ca986d13",
   "metadata": {},
   "source": [
    "470 is the number of companies that were matched to a public ticker\n",
    "\n",
    "**Assuming correctness**\n",
    "\n",
    "This means that we can extract a lot of data for these 470 companies. but there are also some data we can get for private companies"
   ]
  },
  {
   "cell_type": "markdown",
   "id": "0ed3c7fc",
   "metadata": {},
   "source": [
    "Based on these tickers we can pull a lot of data for these companies, but these aren't our only companies, we still need to pull data for the remaining non public companies."
   ]
  },
  {
   "cell_type": "code",
   "execution_count": 216,
   "id": "bc63c1cf",
   "metadata": {},
   "outputs": [
    {
     "name": "stderr",
     "output_type": "stream",
     "text": [
      "100%|█████████████████████████████████████████████████████████████████████████████████████████████████████████████████████████████████████████| 1385/1385 [17:02<00:00,  1.36it/s]\n"
     ]
    }
   ],
   "source": [
    "import yfinance as yf\n",
    "import tqdm\n",
    "\n",
    "public_companies_data = []\n",
    "data_elements_to_keep = {\"fullTimeEmployees\", \"profitMargins\", \"revenueGrowth\", \"operatingMargins\", \"earningsGrowth\", \"currentRatio\", \"returnOnAssets\", \"returnOnEquity\", \"forwardEps\", \"shortRatio\", \"beta\", \"earningsQuarterlyGrowth\", \"payoutRatio\"}\n",
    "for company in tqdm.tqdm(name2ticker.keys(), total=len(list(name2ticker.keys()))):\n",
    "    if name2ticker[company] is None:\n",
    "        continue\n",
    "    ticker = yf.Ticker(name2ticker[company])\n",
    "    try:\n",
    "        info = ticker.info\n",
    "    except:\n",
    "        print(f\"Failed retrieving data for {company}\")\n",
    "        continue\n",
    "    selected_info = {}\n",
    "    for key in info.keys():\n",
    "        if key in data_elements_to_keep:\n",
    "            selected_info[key] = info[key]\n",
    "    selected_info[\"company\"] = company\n",
    "    selected_info[\"ticker\"] = name2ticker[company]\n",
    "    public_companies_data.append(selected_info)\n",
    "\n",
    "public_companies_df = pd.DataFrame.from_dict(public_companies_data)\n",
    "public_companies_df.to_excel(\"public_companies.xlsx\", index=False)"
   ]
  },
  {
   "cell_type": "markdown",
   "id": "15eb3f61",
   "metadata": {},
   "source": [
    "### Private Companies Data"
   ]
  },
  {
   "cell_type": "code",
   "execution_count": 250,
   "id": "9e3af0ab",
   "metadata": {},
   "outputs": [],
   "source": [
    "from lxml import html\n",
    "from retry import retry\n",
    "import re\n",
    "\n",
    "def clear_text(text):\n",
    "    if type(text) is not list:\n",
    "        text = [text]\n",
    "    text = [i.strip() for i in text]\n",
    "    text = [re.sub(\"\\n\", \" \", i) for i in text]\n",
    "    text = [re.sub(\"\\s+\", \" \", i) for i in text]\n",
    "    text = [re.sub(\":\", \"\", i) for i in text]\n",
    "    text = list(filter(lambda x: len(x) > 0, text))\n",
    "    return re.sub(\" , \", \",\", \" \".join(text))\n",
    "\n",
    "def get_company_metadata(page_link):\n",
    "    page = requests.get(page_link)\n",
    "    tree = html.fromstring(page.content)\n",
    "    rows = tree.xpath(\"//div[contains(@class, 'overview-fields')]//tr|//div[contains(@class, 'funding')]//tr\")\n",
    "    metadata = {}\n",
    "    for row in rows:\n",
    "        if len(row.xpath(\"./td\")) != 2:\n",
    "            continue\n",
    "        columns = row.xpath(\"./td\")\n",
    "        header = clear_text(columns[0].xpath(\".//text()\")[0])\n",
    "        value = clear_text(columns[1].xpath(\".//text()\"))\n",
    "        metadata[header] = value\n",
    "    return metadata\n",
    "    \n",
    "@retry(tries=3, delay=1)\n",
    "def get_private_company(company_name):\n",
    "    user_agent_headers = {\n",
    "            'User-Agent': 'Mozilla/5.0 (Macintosh; Intel Mac OS X 10_10_1) AppleWebKit/537.36 (KHTML, like Gecko) Chrome/39.0.2171.95 Safari/537.36'}\n",
    "    url = f\"https://query1.finance.yahoo.com/v1/finance/search\"\n",
    "    params = {\n",
    "        'q': company_name,\n",
    "        'lang': \"en-US\",\n",
    "        'region': \"US\",\n",
    "        'quotesCount': 6,\n",
    "        'newsCount': 2,\n",
    "        'listsCount': 2,\n",
    "        'enableFuzzyQuery': \"false\",\n",
    "        'quotesQueryId': \"tss_match_phrase_query\",\n",
    "        'multiQuoteQueryId': \"multi_quote_single_token_query\",\n",
    "        'newsQueryId': \"news_cie_vespa\",\n",
    "        'enableCb': \"true\",\n",
    "        'enableNavLinks': \"true\",\n",
    "        'enableEnhancedTrivialQuery': \"true\",\n",
    "        'enableResearchReports': \"true\",\n",
    "        'enableCulturalAssets': \"true\",\n",
    "        'researchReportsCount': 2\n",
    "    }\n",
    "    response = requests.get(url=url, headers=user_agent_headers, params=params)\n",
    "    data = response.json()\n",
    "    # A small wait time so the API won't block us\n",
    "    time.sleep(0.3)\n",
    "    if len(data[\"quotes\"]) > 0:\n",
    "        for i in data['quotes']:\n",
    "            if \"permalink\" not in i:\n",
    "                continue\n",
    "            else:    \n",
    "                company_code = i[\"permalink\"]\n",
    "                break\n",
    "        else:\n",
    "            return None\n",
    "    else:\n",
    "        return None\n",
    "    \n",
    "    company_url = f\"https://yahoo.crunchbaseembed.com/entity/{company_code}\"\n",
    "    metadata = get_company_metadata(company_url)\n",
    "    return metadata\n",
    "    "
   ]
  },
  {
   "cell_type": "code",
   "execution_count": 251,
   "id": "278a069e",
   "metadata": {
    "scrolled": true
   },
   "outputs": [
    {
     "name": "stderr",
     "output_type": "stream",
     "text": [
      "100%|█████████████████████████████████████████████████████████████████████████████████████████████████████████████████████████████████████████████████████████████████████████████████████████████████████████████████████████████████████████████████████████████████████████████████████| 1651/1651 [24:39<00:00,  1.12it/s]\n"
     ]
    }
   ],
   "source": [
    "private_companies_data = []\n",
    "for company in tqdm.tqdm(layoffs.company.values):\n",
    "    if company in name2ticker and name2ticker[company] is not None:\n",
    "        continue\n",
    "    company_data = get_private_company(company)\n",
    "    if company_data is None:\n",
    "        continue\n",
    "    company_data[\"company\"] = company\n",
    "    private_companies_data.append(company_data)\n",
    "    \n",
    "private_companies_df = pd.DataFrame.from_dict(private_companies_data)\n",
    "private_companies_df.to_excel(\"private_companies.xlsx\", index=False)"
   ]
  },
  {
   "cell_type": "markdown",
   "id": "02920214",
   "metadata": {},
   "source": [
    "## S&P500 Data at Layoff dates"
   ]
  },
  {
   "cell_type": "code",
   "execution_count": 254,
   "id": "c88e7955",
   "metadata": {},
   "outputs": [],
   "source": [
    "sp500 = yf.Ticker(\"^GSPC\")"
   ]
  },
  {
   "cell_type": "code",
   "execution_count": 255,
   "id": "e6a1ddce",
   "metadata": {},
   "outputs": [
    {
     "data": {
      "text/html": [
       "<div>\n",
       "<style scoped>\n",
       "    .dataframe tbody tr th:only-of-type {\n",
       "        vertical-align: middle;\n",
       "    }\n",
       "\n",
       "    .dataframe tbody tr th {\n",
       "        vertical-align: top;\n",
       "    }\n",
       "\n",
       "    .dataframe thead th {\n",
       "        text-align: right;\n",
       "    }\n",
       "</style>\n",
       "<table border=\"1\" class=\"dataframe\">\n",
       "  <thead>\n",
       "    <tr style=\"text-align: right;\">\n",
       "      <th></th>\n",
       "      <th>company</th>\n",
       "      <th>location</th>\n",
       "      <th>industry</th>\n",
       "      <th>total_laid_off</th>\n",
       "      <th>percentage_laid_off</th>\n",
       "      <th>date</th>\n",
       "      <th>stage</th>\n",
       "      <th>country</th>\n",
       "      <th>funds_raised</th>\n",
       "    </tr>\n",
       "  </thead>\n",
       "  <tbody>\n",
       "    <tr>\n",
       "      <th>0</th>\n",
       "      <td>Zomato</td>\n",
       "      <td>Gurugram</td>\n",
       "      <td>Food</td>\n",
       "      <td>100.0</td>\n",
       "      <td>0.04</td>\n",
       "      <td>2022-11-19</td>\n",
       "      <td>Series J</td>\n",
       "      <td>India</td>\n",
       "      <td>914.0</td>\n",
       "    </tr>\n",
       "    <tr>\n",
       "      <th>1</th>\n",
       "      <td>Carvana</td>\n",
       "      <td>Phoenix</td>\n",
       "      <td>Transportation</td>\n",
       "      <td>1500.0</td>\n",
       "      <td>0.08</td>\n",
       "      <td>2022-11-18</td>\n",
       "      <td>IPO</td>\n",
       "      <td>United States</td>\n",
       "      <td>1600.0</td>\n",
       "    </tr>\n",
       "    <tr>\n",
       "      <th>2</th>\n",
       "      <td>Nuro</td>\n",
       "      <td>SF Bay Area</td>\n",
       "      <td>Transportation</td>\n",
       "      <td>300.0</td>\n",
       "      <td>0.20</td>\n",
       "      <td>2022-11-18</td>\n",
       "      <td>Series D</td>\n",
       "      <td>United States</td>\n",
       "      <td>2100.0</td>\n",
       "    </tr>\n",
       "    <tr>\n",
       "      <th>3</th>\n",
       "      <td>Kavak</td>\n",
       "      <td>Sao Paulo</td>\n",
       "      <td>Transportation</td>\n",
       "      <td>NaN</td>\n",
       "      <td>NaN</td>\n",
       "      <td>2022-11-18</td>\n",
       "      <td>Series E</td>\n",
       "      <td>Brazil</td>\n",
       "      <td>1600.0</td>\n",
       "    </tr>\n",
       "    <tr>\n",
       "      <th>4</th>\n",
       "      <td>Metaplex</td>\n",
       "      <td>Chicago</td>\n",
       "      <td>Crypto</td>\n",
       "      <td>NaN</td>\n",
       "      <td>NaN</td>\n",
       "      <td>2022-11-18</td>\n",
       "      <td>Unknown</td>\n",
       "      <td>United States</td>\n",
       "      <td>NaN</td>\n",
       "    </tr>\n",
       "    <tr>\n",
       "      <th>...</th>\n",
       "      <td>...</td>\n",
       "      <td>...</td>\n",
       "      <td>...</td>\n",
       "      <td>...</td>\n",
       "      <td>...</td>\n",
       "      <td>...</td>\n",
       "      <td>...</td>\n",
       "      <td>...</td>\n",
       "      <td>...</td>\n",
       "    </tr>\n",
       "    <tr>\n",
       "      <th>1646</th>\n",
       "      <td>Service</td>\n",
       "      <td>Los Angeles</td>\n",
       "      <td>Travel</td>\n",
       "      <td>NaN</td>\n",
       "      <td>1.00</td>\n",
       "      <td>2020-03-16</td>\n",
       "      <td>Seed</td>\n",
       "      <td>United States</td>\n",
       "      <td>5.1</td>\n",
       "    </tr>\n",
       "    <tr>\n",
       "      <th>1647</th>\n",
       "      <td>HopSkipDrive</td>\n",
       "      <td>Los Angeles</td>\n",
       "      <td>Transportation</td>\n",
       "      <td>8.0</td>\n",
       "      <td>0.10</td>\n",
       "      <td>2020-03-13</td>\n",
       "      <td>Unknown</td>\n",
       "      <td>United States</td>\n",
       "      <td>45.0</td>\n",
       "    </tr>\n",
       "    <tr>\n",
       "      <th>1648</th>\n",
       "      <td>Panda Squad</td>\n",
       "      <td>SF Bay Area</td>\n",
       "      <td>Consumer</td>\n",
       "      <td>6.0</td>\n",
       "      <td>0.75</td>\n",
       "      <td>2020-03-13</td>\n",
       "      <td>Seed</td>\n",
       "      <td>United States</td>\n",
       "      <td>1.0</td>\n",
       "    </tr>\n",
       "    <tr>\n",
       "      <th>1649</th>\n",
       "      <td>Tamara Mellon</td>\n",
       "      <td>Los Angeles</td>\n",
       "      <td>Retail</td>\n",
       "      <td>20.0</td>\n",
       "      <td>0.40</td>\n",
       "      <td>2020-03-12</td>\n",
       "      <td>Series C</td>\n",
       "      <td>United States</td>\n",
       "      <td>90.0</td>\n",
       "    </tr>\n",
       "    <tr>\n",
       "      <th>1650</th>\n",
       "      <td>EasyPost</td>\n",
       "      <td>Salt Lake City</td>\n",
       "      <td>Logistics</td>\n",
       "      <td>75.0</td>\n",
       "      <td>NaN</td>\n",
       "      <td>2020-03-11</td>\n",
       "      <td>Series A</td>\n",
       "      <td>United States</td>\n",
       "      <td>12.0</td>\n",
       "    </tr>\n",
       "  </tbody>\n",
       "</table>\n",
       "<p>1651 rows × 9 columns</p>\n",
       "</div>"
      ],
      "text/plain": [
       "            company        location        industry  total_laid_off  \\\n",
       "0            Zomato        Gurugram            Food           100.0   \n",
       "1           Carvana         Phoenix  Transportation          1500.0   \n",
       "2              Nuro     SF Bay Area  Transportation           300.0   \n",
       "3             Kavak       Sao Paulo  Transportation             NaN   \n",
       "4          Metaplex         Chicago          Crypto             NaN   \n",
       "...             ...             ...             ...             ...   \n",
       "1646        Service     Los Angeles          Travel             NaN   \n",
       "1647   HopSkipDrive     Los Angeles  Transportation             8.0   \n",
       "1648    Panda Squad     SF Bay Area        Consumer             6.0   \n",
       "1649  Tamara Mellon     Los Angeles          Retail            20.0   \n",
       "1650       EasyPost  Salt Lake City       Logistics            75.0   \n",
       "\n",
       "      percentage_laid_off       date     stage        country  funds_raised  \n",
       "0                    0.04 2022-11-19  Series J          India         914.0  \n",
       "1                    0.08 2022-11-18       IPO  United States        1600.0  \n",
       "2                    0.20 2022-11-18  Series D  United States        2100.0  \n",
       "3                     NaN 2022-11-18  Series E         Brazil        1600.0  \n",
       "4                     NaN 2022-11-18   Unknown  United States           NaN  \n",
       "...                   ...        ...       ...            ...           ...  \n",
       "1646                 1.00 2020-03-16      Seed  United States           5.1  \n",
       "1647                 0.10 2020-03-13   Unknown  United States          45.0  \n",
       "1648                 0.75 2020-03-13      Seed  United States           1.0  \n",
       "1649                 0.40 2020-03-12  Series C  United States          90.0  \n",
       "1650                  NaN 2020-03-11  Series A  United States          12.0  \n",
       "\n",
       "[1651 rows x 9 columns]"
      ]
     },
     "execution_count": 255,
     "metadata": {},
     "output_type": "execute_result"
    }
   ],
   "source": [
    "layoffs"
   ]
  },
  {
   "cell_type": "code",
   "execution_count": 263,
   "id": "9f722a64",
   "metadata": {},
   "outputs": [],
   "source": [
    "h = sp500.history(start=\"2022-11-17\", end=\"2022-11-20\")"
   ]
  },
  {
   "cell_type": "code",
   "execution_count": 298,
   "id": "5db91242",
   "metadata": {},
   "outputs": [],
   "source": [
    "def get_sp_history(date, ticker):\n",
    "    start = date + pd.DateOffset(days=-3)\n",
    "    end = date + pd.DateOffset(days=1)\n",
    "    sp_now = ticker.history(start=start.strftime(\"%Y-%m-%d\"), end=end.strftime(\"%Y-%m-%d\"), period=\"1d\")\n",
    "    assert len(sp_now) > 0, f\"Date {date} was not found in historical data\"\n",
    "    \n",
    "    start_30_days = date + pd.DateOffset(days=-34)\n",
    "    end_30_days = date + pd.DateOffset(days=-30)\n",
    "    sp_30_days_ago = ticker.history(start=start_30_days.strftime(\"%Y-%m-%d\"), end=end_30_days.strftime(\"%Y-%m-%d\"), period=\"1d\")\n",
    "    assert len(sp_30_days_ago) > 0, f\"Date {date} was not found in historical data\"\n",
    "    \n",
    "    start_180_days = date + pd.DateOffset(days=-184)\n",
    "    end_180_days = date + pd.DateOffset(days=-180)\n",
    "    sp_180_days_ago = ticker.history(start=start_180_days.strftime(\"%Y-%m-%d\"), end=end_180_days.strftime(\"%Y-%m-%d\"), period=\"1d\")\n",
    "    assert len(sp_180_days_ago) > 0, f\"Date {date} was not found in historical data\"\n",
    "    \n",
    "    start_365_days = date + pd.DateOffset(days=-369)\n",
    "    end_365_days = date + pd.DateOffset(days=-365)\n",
    "    sp_365_days_ago = ticker.history(start=start_365_days.strftime(\"%Y-%m-%d\"), end=end_365_days.strftime(\"%Y-%m-%d\"), period=\"1d\")\n",
    "    assert len(sp_365_days_ago) > 0, f\"Date {date} was not found in historical data\"\n",
    "    \n",
    "    change_30_days = (sp_now[\"Close\"].iloc[0] - sp_30_days_ago[\"Close\"].iloc[0]) / sp_30_days_ago[\"Close\"].iloc[0]\n",
    "    change_180_days = (sp_now[\"Close\"].iloc[0] - sp_180_days_ago[\"Close\"].iloc[0]) / sp_180_days_ago[\"Close\"].iloc[0]\n",
    "    change_365_days = (sp_now[\"Close\"].iloc[0] - sp_365_days_ago[\"Close\"].iloc[0]) / sp_365_days_ago[\"Close\"].iloc[0]\n",
    "    return change_30_days, change_180_days, change_365_days"
   ]
  },
  {
   "cell_type": "code",
   "execution_count": 299,
   "id": "9d2ffd34",
   "metadata": {},
   "outputs": [],
   "source": [
    "sp_tracker = {}\n",
    "for date in layoffs.date.values:\n",
    "    if date not in sp_tracker:\n",
    "        change_30_days, change_180_days, change_365_days = get_sp_history(date, sp500)\n",
    "        sp_tracker[date] = {\"sp_change_30_days\": change_30_days, \"sp_change_180_days\": change_180_days, \"sp_change_365_days\": change_365_days}        "
   ]
  },
  {
   "cell_type": "code",
   "execution_count": 308,
   "id": "9b65a1a8",
   "metadata": {},
   "outputs": [],
   "source": [
    "sp_tracker_df = pd.DataFrame.from_dict(sp_tracker, orient=\"index\")\n",
    "layoffs_with_sp = layoffs.join(sp_tracker_df, on=\"date\")\n",
    "layoffs_with_sp.to_excel(\"layoffs_with_sp.xlsx\", index=False)"
   ]
  },
  {
   "cell_type": "markdown",
   "id": "315b2322",
   "metadata": {},
   "source": [
    "## Negative Samples\n",
    "If we want to model the probability of a certain company laying off employees then we'll certainly need to also pull negative samples.\n",
    "\n",
    "The amount of negative samples needed is always subjective as knowing the true proportion of companies that are susceptible to layoffs out of the whole population is not straightforward.\n",
    "\n",
    "What we can do is sample as much negatives as we can and later on we choose the amount of negative samples we use to fit our parameters.\n",
    "\n",
    "Let's start with unicorns (Startups whose valuation exceeded $1 Billion."
   ]
  },
  {
   "cell_type": "code",
   "execution_count": 325,
   "id": "6e14415b",
   "metadata": {},
   "outputs": [
    {
     "name": "stderr",
     "output_type": "stream",
     "text": [
      "\r",
      "0it [00:00, ?it/s]"
     ]
    },
    {
     "name": "stdout",
     "output_type": "stream",
     "text": [
      "Couldn't parse row 0\n",
      "Couldn't parse row 11\n"
     ]
    },
    {
     "name": "stderr",
     "output_type": "stream",
     "text": [
      "1202it [00:00, 4301.51it/s]"
     ]
    },
    {
     "name": "stdout",
     "output_type": "stream",
     "text": [
      "Couldn't parse row 241\n",
      "Couldn't parse row 317\n",
      "Couldn't parse row 346\n",
      "Couldn't parse row 371\n",
      "Couldn't parse row 482\n",
      "Couldn't parse row 495\n",
      "Couldn't parse row 552\n",
      "Couldn't parse row 610\n",
      "Couldn't parse row 875\n",
      "Couldn't parse row 958\n",
      "Couldn't parse row 1016\n",
      "Couldn't parse row 1045\n",
      "Couldn't parse row 1050\n",
      "Couldn't parse row 1071\n",
      "Couldn't parse row 1082\n",
      "Couldn't parse row 1094\n",
      "Couldn't parse row 1145\n"
     ]
    },
    {
     "name": "stderr",
     "output_type": "stream",
     "text": [
      "\n"
     ]
    }
   ],
   "source": [
    "unicorns_url = \"https://www.cbinsights.com/research-unicorn-companies\"\n",
    "page = requests.get(unicorns_url)\n",
    "tree = html.fromstring(page.content)\n",
    "rows = tree.xpath(\"//table[@class='sortable-theme-bootstrap']//tr\")\n",
    "\n",
    "unicorns = []\n",
    "for row_idx, row in tqdm.tqdm(enumerate(rows)):\n",
    "    columns = row.xpath(\".//td//text()\")\n",
    "    if len(columns) != 7:\n",
    "        print(f\"Couldn't parse row {row_idx}\")\n",
    "        continue\n",
    "    unicorns.append(columns)\n",
    "unicorns_df = pd.DataFrame(unicorns, columns=[\"company\", \"valuation\", \"date_joined\", \"country\", \"city\", \"industry\", \"select_investors\"])"
   ]
  },
  {
   "cell_type": "code",
   "execution_count": 336,
   "id": "87008173",
   "metadata": {},
   "outputs": [
    {
     "data": {
      "text/plain": [
       "1020"
      ]
     },
     "execution_count": 336,
     "metadata": {},
     "output_type": "execute_result"
    }
   ],
   "source": [
    "# Filter our redundant companies\n",
    "unicorns_df = unicorns_df[~unicorns_df.company.isin(private_companies_df.company)]\n",
    "len(unicorns_df)"
   ]
  },
  {
   "cell_type": "code",
   "execution_count": 337,
   "id": "9846b17d",
   "metadata": {},
   "outputs": [
    {
     "data": {
      "text/html": [
       "<div>\n",
       "<style scoped>\n",
       "    .dataframe tbody tr th:only-of-type {\n",
       "        vertical-align: middle;\n",
       "    }\n",
       "\n",
       "    .dataframe tbody tr th {\n",
       "        vertical-align: top;\n",
       "    }\n",
       "\n",
       "    .dataframe thead th {\n",
       "        text-align: right;\n",
       "    }\n",
       "</style>\n",
       "<table border=\"1\" class=\"dataframe\">\n",
       "  <thead>\n",
       "    <tr style=\"text-align: right;\">\n",
       "      <th></th>\n",
       "      <th>company</th>\n",
       "      <th>valuation</th>\n",
       "      <th>date_joined</th>\n",
       "      <th>country</th>\n",
       "      <th>city</th>\n",
       "      <th>industry</th>\n",
       "      <th>select_investors</th>\n",
       "    </tr>\n",
       "  </thead>\n",
       "  <tbody>\n",
       "    <tr>\n",
       "      <th>0</th>\n",
       "      <td>ByteDance</td>\n",
       "      <td>$140</td>\n",
       "      <td>4/7/2017</td>\n",
       "      <td>China</td>\n",
       "      <td>Beijing</td>\n",
       "      <td>Artificial intelligence</td>\n",
       "      <td>Sequoia Capital China, SIG Asia Investments, S...</td>\n",
       "    </tr>\n",
       "    <tr>\n",
       "      <th>1</th>\n",
       "      <td>SpaceX</td>\n",
       "      <td>$127</td>\n",
       "      <td>12/1/2012</td>\n",
       "      <td>United States</td>\n",
       "      <td>Hawthorne</td>\n",
       "      <td>Other</td>\n",
       "      <td>Founders Fund, Draper Fisher Jurvetson, Rothen...</td>\n",
       "    </tr>\n",
       "    <tr>\n",
       "      <th>2</th>\n",
       "      <td>SHEIN</td>\n",
       "      <td>$100</td>\n",
       "      <td>7/3/2018</td>\n",
       "      <td>China</td>\n",
       "      <td>Shenzhen</td>\n",
       "      <td>E-commerce &amp; direct-to-consumer</td>\n",
       "      <td>Tiger Global Management, Sequoia Capital China...</td>\n",
       "    </tr>\n",
       "    <tr>\n",
       "      <th>3</th>\n",
       "      <td>Stripe</td>\n",
       "      <td>$95</td>\n",
       "      <td>1/23/2014</td>\n",
       "      <td>United States</td>\n",
       "      <td>San Francisco</td>\n",
       "      <td>Fintech</td>\n",
       "      <td>Khosla Ventures, LowercaseCapital, capitalG</td>\n",
       "    </tr>\n",
       "    <tr>\n",
       "      <th>4</th>\n",
       "      <td>Canva</td>\n",
       "      <td>$40</td>\n",
       "      <td>1/8/2018</td>\n",
       "      <td>Australia</td>\n",
       "      <td>Surry Hills</td>\n",
       "      <td>Internet software &amp; services</td>\n",
       "      <td>Sequoia Capital China, Blackbird Ventures, Mat...</td>\n",
       "    </tr>\n",
       "  </tbody>\n",
       "</table>\n",
       "</div>"
      ],
      "text/plain": [
       "     company valuation date_joined        country           city  \\\n",
       "0  ByteDance      $140    4/7/2017          China        Beijing   \n",
       "1     SpaceX      $127   12/1/2012  United States      Hawthorne   \n",
       "2      SHEIN      $100    7/3/2018          China       Shenzhen   \n",
       "3     Stripe       $95   1/23/2014  United States  San Francisco   \n",
       "4      Canva       $40    1/8/2018      Australia    Surry Hills   \n",
       "\n",
       "                          industry  \\\n",
       "0          Artificial intelligence   \n",
       "1                            Other   \n",
       "2  E-commerce & direct-to-consumer   \n",
       "3                          Fintech   \n",
       "4     Internet software & services   \n",
       "\n",
       "                                    select_investors  \n",
       "0  Sequoia Capital China, SIG Asia Investments, S...  \n",
       "1  Founders Fund, Draper Fisher Jurvetson, Rothen...  \n",
       "2  Tiger Global Management, Sequoia Capital China...  \n",
       "3        Khosla Ventures, LowercaseCapital, capitalG  \n",
       "4  Sequoia Capital China, Blackbird Ventures, Mat...  "
      ]
     },
     "execution_count": 337,
     "metadata": {},
     "output_type": "execute_result"
    }
   ],
   "source": [
    "unicorns_df.head()"
   ]
  },
  {
   "cell_type": "markdown",
   "id": "3a69e80b",
   "metadata": {},
   "source": [
    "Looks like a big enough sample, but keep in mind this sample is biased by being a unicorn, we still need a sample of startups that aren't unicorns."
   ]
  },
  {
   "cell_type": "code",
   "execution_count": 338,
   "id": "f2614c78",
   "metadata": {},
   "outputs": [
    {
     "name": "stderr",
     "output_type": "stream",
     "text": [
      "  0%|                                                                                                                                                                                                                                                                                                  | 0/68 [00:00<?, ?it/s]\n",
      "19it [00:00, 9215.05it/s]\n",
      "  1%|████▏                                                                                                                                                                                                                                                                                     | 1/68 [00:00<01:05,  1.03it/s]\n",
      "19it [00:00, 14315.03it/s]\n",
      "  3%|████████▎                                                                                                                                                                                                                                                                                 | 2/68 [00:01<00:49,  1.33it/s]\n",
      "19it [00:00, 16141.74it/s]\n",
      "  4%|████████████▍                                                                                                                                                                                                                                                                             | 3/68 [00:02<00:43,  1.48it/s]\n",
      "19it [00:00, 15164.94it/s]\n",
      "  6%|████████████████▌                                                                                                                                                                                                                                                                         | 4/68 [00:02<00:46,  1.37it/s]\n",
      "19it [00:00, 21393.77it/s]\n",
      "  7%|████████████████████▋                                                                                                                                                                                                                                                                     | 5/68 [00:03<00:42,  1.47it/s]\n",
      "19it [00:00, 6874.72it/s]\n",
      "  9%|████████████████████████▉                                                                                                                                                                                                                                                                 | 6/68 [00:04<00:40,  1.53it/s]\n",
      "19it [00:00, 15546.58it/s]\n",
      " 10%|█████████████████████████████                                                                                                                                                                                                                                                             | 7/68 [00:04<00:40,  1.52it/s]\n",
      "19it [00:00, 8315.95it/s]\n",
      " 12%|█████████████████████████████████▏                                                                                                                                                                                                                                                        | 8/68 [00:05<00:39,  1.52it/s]\n",
      "19it [00:00, 9337.06it/s]\n",
      " 13%|█████████████████████████████████████▎                                                                                                                                                                                                                                                    | 9/68 [00:06<00:37,  1.57it/s]\n",
      "19it [00:00, 12777.26it/s]\n",
      " 15%|█████████████████████████████████████████▎                                                                                                                                                                                                                                               | 10/68 [00:06<00:39,  1.47it/s]\n",
      "19it [00:00, 7421.47it/s]\n",
      " 16%|█████████████████████████████████████████████▍                                                                                                                                                                                                                                           | 11/68 [00:07<00:37,  1.52it/s]\n",
      "19it [00:00, 18374.86it/s]\n",
      " 18%|█████████████████████████████████████████████████▌                                                                                                                                                                                                                                       | 12/68 [00:08<00:35,  1.56it/s]\n",
      "19it [00:00, 7369.32it/s]\n",
      " 19%|█████████████████████████████████████████████████████▋                                                                                                                                                                                                                                   | 13/68 [00:08<00:34,  1.59it/s]\n",
      "19it [00:00, 11059.09it/s]\n",
      " 21%|█████████████████████████████████████████████████████████▊                                                                                                                                                                                                                               | 14/68 [00:09<00:33,  1.60it/s]\n",
      "19it [00:00, 7901.23it/s]\n",
      " 22%|█████████████████████████████████████████████████████████████▉                                                                                                                                                                                                                           | 15/68 [00:09<00:32,  1.62it/s]\n",
      "19it [00:00, 6984.99it/s]\n",
      " 24%|██████████████████████████████████████████████████████████████████                                                                                                                                                                                                                       | 16/68 [00:10<00:32,  1.59it/s]\n",
      "19it [00:00, 7989.95it/s]\n",
      " 25%|██████████████████████████████████████████████████████████████████████▎                                                                                                                                                                                                                  | 17/68 [00:11<00:31,  1.61it/s]\n",
      "19it [00:00, 14687.02it/s]\n",
      " 26%|██████████████████████████████████████████████████████████████████████████▍                                                                                                                                                                                                              | 18/68 [00:11<00:31,  1.56it/s]\n",
      "19it [00:00, 6327.25it/s]\n",
      " 28%|██████████████████████████████████████████████████████████████████████████████▌                                                                                                                                                                                                          | 19/68 [00:12<00:31,  1.53it/s]\n",
      "19it [00:00, 6268.53it/s]\n",
      " 29%|██████████████████████████████████████████████████████████████████████████████████▋                                                                                                                                                                                                      | 20/68 [00:13<00:31,  1.54it/s]\n",
      "19it [00:00, 12211.43it/s]\n",
      " 31%|██████████████████████████████████████████████████████████████████████████████████████▊                                                                                                                                                                                                  | 21/68 [00:13<00:29,  1.57it/s]\n",
      "19it [00:00, 8846.78it/s]\n",
      " 32%|██████████████████████████████████████████████████████████████████████████████████████████▉                                                                                                                                                                                              | 22/68 [00:14<00:29,  1.56it/s]\n",
      "19it [00:00, 5914.05it/s]\n",
      " 34%|███████████████████████████████████████████████████████████████████████████████████████████████                                                                                                                                                                                          | 23/68 [00:14<00:27,  1.61it/s]\n",
      "19it [00:00, 12386.04it/s]\n",
      " 35%|███████████████████████████████████████████████████████████████████████████████████████████████████▏                                                                                                                                                                                     | 24/68 [00:15<00:27,  1.59it/s]\n",
      "19it [00:00, 9341.43it/s]\n",
      " 37%|███████████████████████████████████████████████████████████████████████████████████████████████████████▎                                                                                                                                                                                 | 25/68 [00:16<00:28,  1.49it/s]\n",
      "19it [00:00, 13167.84it/s]\n",
      " 38%|███████████████████████████████████████████████████████████████████████████████████████████████████████████▍                                                                                                                                                                             | 26/68 [00:17<00:28,  1.49it/s]\n",
      "19it [00:00, 7480.69it/s]\n",
      " 40%|███████████████████████████████████████████████████████████████████████████████████████████████████████████████▌                                                                                                                                                                         | 27/68 [00:17<00:28,  1.45it/s]\n",
      "19it [00:00, 11303.80it/s]\n",
      " 41%|███████████████████████████████████████████████████████████████████████████████████████████████████████████████████▋                                                                                                                                                                     | 28/68 [00:18<00:27,  1.46it/s]\n",
      "19it [00:00, 6589.91it/s]\n",
      " 43%|███████████████████████████████████████████████████████████████████████████████████████████████████████████████████████▊                                                                                                                                                                 | 29/68 [00:19<00:25,  1.52it/s]\n",
      "19it [00:00, 10503.73it/s]\n",
      " 44%|███████████████████████████████████████████████████████████████████████████████████████████████████████████████████████████▉                                                                                                                                                             | 30/68 [00:19<00:26,  1.45it/s]\n",
      "19it [00:00, 18357.93it/s]\n",
      " 46%|████████████████████████████████████████████████████████████████████████████████████████████████████████████████████████████████                                                                                                                                                         | 31/68 [00:20<00:25,  1.46it/s]\n",
      "19it [00:00, 14502.60it/s]\n",
      " 47%|████████████████████████████████████████████████████████████████████████████████████████████████████████████████████████████████████▏                                                                                                                                                    | 32/68 [00:21<00:24,  1.47it/s]\n",
      "19it [00:00, 6713.71it/s]\n",
      " 49%|████████████████████████████████████████████████████████████████████████████████████████████████████████████████████████████████████████▎                                                                                                                                                | 33/68 [00:21<00:23,  1.47it/s]\n",
      "19it [00:00, 11858.90it/s]\n",
      " 50%|████████████████████████████████████████████████████████████████████████████████████████████████████████████████████████████████████████████▌                                                                                                                                            | 34/68 [00:22<00:22,  1.48it/s]\n",
      "19it [00:00, 8400.10it/s]\n",
      " 51%|████████████████████████████████████████████████████████████████████████████████████████████████████████████████████████████████████████████████▋                                                                                                                                        | 35/68 [00:23<00:22,  1.48it/s]\n",
      "19it [00:00, 9619.96it/s]\n",
      " 53%|████████████████████████████████████████████████████████████████████████████████████████████████████████████████████████████████████████████████████▊                                                                                                                                    | 36/68 [00:23<00:22,  1.45it/s]\n",
      "19it [00:00, 21497.65it/s]\n",
      " 54%|████████████████████████████████████████████████████████████████████████████████████████████████████████████████████████████████████████████████████████▉                                                                                                                                | 37/68 [00:24<00:20,  1.50it/s]\n",
      "19it [00:00, 8600.45it/s]\n",
      " 56%|█████████████████████████████████████████████████████████████████████████████████████████████████████████████████████████████████████████████████████████████                                                                                                                            | 38/68 [00:25<00:19,  1.52it/s]\n",
      "19it [00:00, 16844.59it/s]\n",
      " 57%|█████████████████████████████████████████████████████████████████████████████████████████████████████████████████████████████████████████████████████████████████▏                                                                                                                       | 39/68 [00:25<00:19,  1.53it/s]\n",
      "19it [00:00, 9699.58it/s]\n",
      " 59%|█████████████████████████████████████████████████████████████████████████████████████████████████████████████████████████████████████████████████████████████████████▎                                                                                                                   | 40/68 [00:26<00:19,  1.47it/s]\n",
      "19it [00:00, 10813.00it/s]\n",
      " 60%|█████████████████████████████████████████████████████████████████████████████████████████████████████████████████████████████████████████████████████████████████████████▍                                                                                                               | 41/68 [00:27<00:20,  1.33it/s]\n",
      "19it [00:00, 7016.36it/s]\n",
      " 62%|█████████████████████████████████████████████████████████████████████████████████████████████████████████████████████████████████████████████████████████████████████████████▌                                                                                                           | 42/68 [00:28<00:18,  1.42it/s]\n",
      "19it [00:00, 7757.40it/s]\n",
      " 63%|█████████████████████████████████████████████████████████████████████████████████████████████████████████████████████████████████████████████████████████████████████████████████▋                                                                                                       | 43/68 [00:28<00:17,  1.45it/s]\n",
      "19it [00:00, 7608.53it/s]\n",
      " 65%|█████████████████████████████████████████████████████████████████████████████████████████████████████████████████████████████████████████████████████████████████████████████████████▊                                                                                                   | 44/68 [00:29<00:16,  1.42it/s]\n",
      "19it [00:00, 15793.06it/s]\n",
      " 66%|█████████████████████████████████████████████████████████████████████████████████████████████████████████████████████████████████████████████████████████████████████████████████████████▉                                                                                               | 45/68 [00:30<00:16,  1.40it/s]\n",
      "19it [00:00, 16966.53it/s]\n"
     ]
    },
    {
     "name": "stderr",
     "output_type": "stream",
     "text": [
      " 68%|██████████████████████████████████████████████████████████████████████████████████████████████████████████████████████████████████████████████████████████████████████████████████████████████                                                                                           | 46/68 [00:30<00:15,  1.40it/s]\n",
      "19it [00:00, 13185.27it/s]\n",
      " 69%|██████████████████████████████████████████████████████████████████████████████████████████████████████████████████████████████████████████████████████████████████████████████████████████████████▏                                                                                      | 47/68 [00:31<00:14,  1.43it/s]\n",
      "19it [00:00, 16784.28it/s]\n",
      " 71%|██████████████████████████████████████████████████████████████████████████████████████████████████████████████████████████████████████████████████████████████████████████████████████████████████████▎                                                                                  | 48/68 [00:32<00:14,  1.42it/s]\n",
      "19it [00:00, 6636.00it/s]\n",
      " 72%|██████████████████████████████████████████████████████████████████████████████████████████████████████████████████████████████████████████████████████████████████████████████████████████████████████████▍                                                                              | 49/68 [00:32<00:13,  1.44it/s]\n",
      "19it [00:00, 9258.95it/s]\n",
      " 74%|██████████████████████████████████████████████████████████████████████████████████████████████████████████████████████████████████████████████████████████████████████████████████████████████████████████████▌                                                                          | 50/68 [00:33<00:12,  1.49it/s]\n",
      "19it [00:00, 17756.63it/s]\n",
      " 75%|██████████████████████████████████████████████████████████████████████████████████████████████████████████████████████████████████████████████████████████████████████████████████████████████████████████████████▊                                                                      | 51/68 [00:34<00:11,  1.51it/s]\n",
      "19it [00:00, 7415.95it/s]\n",
      " 76%|██████████████████████████████████████████████████████████████████████████████████████████████████████████████████████████████████████████████████████████████████████████████████████████████████████████████████████▉                                                                  | 52/68 [00:35<00:11,  1.37it/s]\n",
      "19it [00:00, 10336.16it/s]\n",
      " 78%|███████████████████████████████████████████████████████████████████████████████████████████████████████████████████████████████████████████████████████████████████████████████████████████████████████████████████████████                                                              | 53/68 [00:35<00:10,  1.41it/s]\n",
      "19it [00:00, 10863.11it/s]\n",
      " 79%|███████████████████████████████████████████████████████████████████████████████████████████████████████████████████████████████████████████████████████████████████████████████████████████████████████████████████████████████▏                                                         | 54/68 [00:36<00:09,  1.41it/s]\n",
      "19it [00:00, 17082.91it/s]\n",
      " 81%|███████████████████████████████████████████████████████████████████████████████████████████████████████████████████████████████████████████████████████████████████████████████████████████████████████████████████████████████████▎                                                     | 55/68 [00:37<00:08,  1.48it/s]\n",
      "19it [00:00, 16564.49it/s]\n",
      " 82%|███████████████████████████████████████████████████████████████████████████████████████████████████████████████████████████████████████████████████████████████████████████████████████████████████████████████████████████████████████▍                                                 | 56/68 [00:37<00:08,  1.46it/s]\n",
      "19it [00:00, 8000.38it/s]\n",
      " 84%|███████████████████████████████████████████████████████████████████████████████████████████████████████████████████████████████████████████████████████████████████████████████████████████████████████████████████████████████████████████▌                                             | 57/68 [00:38<00:07,  1.45it/s]\n",
      "19it [00:00, 15387.48it/s]\n",
      " 85%|███████████████████████████████████████████████████████████████████████████████████████████████████████████████████████████████████████████████████████████████████████████████████████████████████████████████████████████████████████████████▋                                         | 58/68 [00:39<00:07,  1.43it/s]\n",
      "19it [00:00, 13083.53it/s]\n",
      " 87%|███████████████████████████████████████████████████████████████████████████████████████████████████████████████████████████████████████████████████████████████████████████████████████████████████████████████████████████████████████████████████▊                                     | 59/68 [00:40<00:06,  1.35it/s]\n",
      "19it [00:00, 10608.60it/s]\n",
      " 88%|███████████████████████████████████████████████████████████████████████████████████████████████████████████████████████████████████████████████████████████████████████████████████████████████████████████████████████████████████████████████████████▉                                 | 60/68 [00:40<00:05,  1.37it/s]\n",
      "19it [00:00, 16980.99it/s]\n",
      " 90%|████████████████████████████████████████████████████████████████████████████████████████████████████████████████████████████████████████████████████████████████████████████████████████████████████████████████████████████████████████████████████████████                             | 61/68 [00:41<00:05,  1.32it/s]\n",
      "19it [00:00, 7427.70it/s]\n",
      " 91%|████████████████████████████████████████████████████████████████████████████████████████████████████████████████████████████████████████████████████████████████████████████████████████████████████████████████████████████████████████████████████████████████▏                        | 62/68 [00:42<00:04,  1.37it/s]\n",
      "19it [00:00, 16112.37it/s]\n",
      " 93%|████████████████████████████████████████████████████████████████████████████████████████████████████████████████████████████████████████████████████████████████████████████████████████████████████████████████████████████████████████████████████████████████████▎                    | 63/68 [00:42<00:03,  1.39it/s]\n",
      "19it [00:00, 7679.65it/s]\n",
      " 94%|████████████████████████████████████████████████████████████████████████████████████████████████████████████████████████████████████████████████████████████████████████████████████████████████████████████████████████████████████████████████████████████████████████▍                | 64/68 [00:43<00:02,  1.35it/s]\n",
      "19it [00:00, 6314.22it/s]\n",
      " 96%|████████████████████████████████████████████████████████████████████████████████████████████████████████████████████████████████████████████████████████████████████████████████████████████████████████████████████████████████████████████████████████████████████████████▌            | 65/68 [00:44<00:02,  1.39it/s]\n",
      "19it [00:00, 11412.25it/s]\n",
      " 97%|████████████████████████████████████████████████████████████████████████████████████████████████████████████████████████████████████████████████████████████████████████████████████████████████████████████████████████████████████████████████████████████████████████████████▋        | 66/68 [00:45<00:01,  1.42it/s]\n",
      "19it [00:00, 6203.14it/s]\n",
      " 99%|████████████████████████████████████████████████████████████████████████████████████████████████████████████████████████████████████████████████████████████████████████████████████████████████████████████████████████████████████████████████████████████████████████████████████▊    | 67/68 [00:45<00:00,  1.36it/s]\n",
      "4it [00:00, 3139.45it/s]\n",
      "100%|█████████████████████████████████████████████████████████████████████████████████████████████████████████████████████████████████████████████████████████████████████████████████████████████████████████████████████████████████████████████████████████████████████████████████████████| 68/68 [00:46<00:00,  1.45it/s]"
     ]
    },
    {
     "name": "stdout",
     "output_type": "stream",
     "text": [
      "1277\n"
     ]
    },
    {
     "name": "stderr",
     "output_type": "stream",
     "text": [
      "\n"
     ]
    }
   ],
   "source": [
    "startups_url = \"https://topstartups.io/\"\n",
    "startups = []\n",
    "\n",
    "for page in tqdm.tqdm(range(1, 69)):\n",
    "    page_html = requests.get(f\"{startups_url}?page={page}\")\n",
    "    tree = html.fromstring(page_html.content)\n",
    "    cards = tree.xpath(\"//div[contains(@class, 'infinite-container')]//div[contains(@class, 'card')]\")\n",
    "    for card_idx, card in tqdm.tqdm(enumerate(cards)):\n",
    "        company_name = card.xpath(\".//h3/text()\")[0]\n",
    "        startups.append(company_name)\n",
    "print(len(startups))"
   ]
  },
  {
   "cell_type": "code",
   "execution_count": 340,
   "id": "ea4b4f97",
   "metadata": {},
   "outputs": [
    {
     "name": "stdout",
     "output_type": "stream",
     "text": [
      "1277\n"
     ]
    }
   ],
   "source": [
    "startups = list(filter(lambda x: (x not in private_companies_df.company) & (x not in unicorns_df.company), startups))\n",
    "print(len(startups))"
   ]
  },
  {
   "cell_type": "code",
   "execution_count": 342,
   "id": "68fb4e2c",
   "metadata": {},
   "outputs": [
    {
     "name": "stderr",
     "output_type": "stream",
     "text": [
      "100%|█████████████████████████████████████████████████████████████████████████████████████████████████████████████████████████████████████████████████████████████████████████████████████████████████████████████████████████████████████████████████████████████████████████████████████| 2297/2297 [49:08<00:00,  1.28s/it]\n"
     ]
    }
   ],
   "source": [
    "negative_samples_data = []\n",
    "for company in tqdm.tqdm(startups + unicorns_df.company.tolist()):\n",
    "    if company in name2ticker and name2ticker[company] is not None:\n",
    "        continue\n",
    "    company_data = get_private_company(company)\n",
    "    if company_data is None:\n",
    "        continue\n",
    "    company_data[\"company\"] = company\n",
    "    negative_samples_data.append(company_data)    \n",
    "    \n",
    "\n",
    "negative_samples_df = pd.DataFrame.from_dict(negative_samples_data)"
   ]
  },
  {
   "cell_type": "code",
   "execution_count": 372,
   "id": "c1319ee4",
   "metadata": {},
   "outputs": [
    {
     "data": {
      "text/plain": [
       "2020-04-02    27\n",
       "2020-04-03    25\n",
       "2020-03-27    23\n",
       "2020-04-08    21\n",
       "2020-04-01    21\n",
       "              ..\n",
       "2021-01-23     1\n",
       "2021-01-21     1\n",
       "2021-01-20     1\n",
       "2021-01-13     1\n",
       "2020-03-11     1\n",
       "Name: date, Length: 390, dtype: int64"
      ]
     },
     "execution_count": 372,
     "metadata": {},
     "output_type": "execute_result"
    }
   ],
   "source": [
    "# Let's get the S&P features for the negative samples. To overcome the lack of \"event\" date, let's just pick a\n",
    "# date that seems common\n",
    "layoffs.date.value_counts()"
   ]
  },
  {
   "cell_type": "code",
   "execution_count": 391,
   "id": "4fce7ee2",
   "metadata": {},
   "outputs": [],
   "source": [
    "# Looks like a lot of the incidents were right after the peak of covid spread in March 2020, so let's pull\n",
    "# data from the first of April 2020\n",
    "date = pd.to_datetime(\"2020-04-01\")\n",
    "sp_tracker = {}\n",
    "change_30_days, change_180_days, change_365_days = get_sp_history(date, sp500)\n",
    "sp_tracker[date] = {\"sp_change_30_days\": change_30_days, \"sp_change_180_days\": change_180_days, \"sp_change_365_days\": change_365_days}\n",
    "sp_tracker_df = pd.DataFrame.from_dict(sp_tracker, orient=\"index\")\n",
    "\n",
    "negative_samples_df[\"date\"] = date\n",
    "private_negative_with_sp = negative_samples_df.join(sp_tracker_df, on=\"date\", how=\"left\")\n",
    "\n",
    "private_negative_with_sp.to_excel(\"negative_private_companies.xlsx\", index=False)"
   ]
  },
  {
   "cell_type": "markdown",
   "id": "9e384ae6",
   "metadata": {},
   "source": [
    "## Negative samples for public companies\n",
    "We also need to extract negative samples for public companies"
   ]
  },
  {
   "cell_type": "code",
   "execution_count": 377,
   "id": "564be041",
   "metadata": {},
   "outputs": [
    {
     "data": {
      "text/plain": [
       "4777"
      ]
     },
     "execution_count": 377,
     "metadata": {},
     "output_type": "execute_result"
    }
   ],
   "source": [
    "# Let's get all tickers in NASDAQ\n",
    "tickers = requests.get(\"https://raw.githubusercontent.com/rreichel3/US-Stock-Symbols/main/nasdaq/nasdaq_tickers.json\").json()\n",
    "len(tickers)"
   ]
  },
  {
   "cell_type": "code",
   "execution_count": 393,
   "id": "89fe7f34",
   "metadata": {},
   "outputs": [],
   "source": [
    "# Let's randomly sample 2000 tickers\n",
    "import random\n",
    "random.shuffle(tickers)\n",
    "tickers = tickers[:2000]"
   ]
  },
  {
   "cell_type": "code",
   "execution_count": 396,
   "id": "9a60a53b",
   "metadata": {},
   "outputs": [
    {
     "name": "stderr",
     "output_type": "stream",
     "text": [
      "100%|███████████████████████████████████████████████████████████████████████████████████████████████████████████████████████████████████████████████████████████████████████████████████████████████████████████████████████████████████████████████████████████████████████████████████| 2000/2000 [1:26:53<00:00,  2.61s/it]\n"
     ]
    }
   ],
   "source": [
    "negative_public_companies_data = []\n",
    "for company in tqdm.tqdm(tickers, total=len(list(tickers))):\n",
    "    if company in name2ticker:\n",
    "        continue\n",
    "    ticker = yf.Ticker(company)\n",
    "    try:\n",
    "        info = ticker.info\n",
    "    except:\n",
    "        print(f\"Failed retrieving data for {company}\")\n",
    "        continue\n",
    "    selected_info = {}\n",
    "    for key in info.keys():\n",
    "        if key in info and key in data_elements_to_keep:\n",
    "            selected_info[key] = info[key]\n",
    "    if \"industry\" not in info:\n",
    "        continue\n",
    "    selected_info[\"company\"] = info[\"shortName\"]\n",
    "    selected_info[\"ticker\"] = company\n",
    "    selected_info[\"industry\"] = info[\"industry\"]\n",
    "    negative_public_companies_data.append(selected_info)"
   ]
  },
  {
   "cell_type": "code",
   "execution_count": 397,
   "id": "c5d21522",
   "metadata": {},
   "outputs": [],
   "source": [
    "negative_public_companies_df = pd.DataFrame.from_dict(negative_public_companies_data)\n",
    "\n",
    "negative_public_companies_df[\"date\"] = date\n",
    "negative_public_with_sp = negative_public_companies_df.join(sp_tracker_df, on=\"date\", how=\"left\")\n",
    "\n",
    "negative_public_with_sp.to_excel(\"negative_public_companies.xlsx\", index=False)"
   ]
  },
  {
   "cell_type": "code",
   "execution_count": 402,
   "id": "9627548f",
   "metadata": {},
   "outputs": [
    {
     "data": {
      "text/html": [
       "<div>\n",
       "<style scoped>\n",
       "    .dataframe tbody tr th:only-of-type {\n",
       "        vertical-align: middle;\n",
       "    }\n",
       "\n",
       "    .dataframe tbody tr th {\n",
       "        vertical-align: top;\n",
       "    }\n",
       "\n",
       "    .dataframe thead th {\n",
       "        text-align: right;\n",
       "    }\n",
       "</style>\n",
       "<table border=\"1\" class=\"dataframe\">\n",
       "  <thead>\n",
       "    <tr style=\"text-align: right;\">\n",
       "      <th></th>\n",
       "      <th>Categories</th>\n",
       "      <th>Founded Date</th>\n",
       "      <th>Founders</th>\n",
       "      <th>Funding Status</th>\n",
       "      <th>Number of Employees</th>\n",
       "      <th>Announced Date</th>\n",
       "      <th>Funding Type</th>\n",
       "      <th>Money Raised</th>\n",
       "      <th>Total Investors</th>\n",
       "      <th>Lead Investors</th>\n",
       "      <th>company</th>\n",
       "    </tr>\n",
       "  </thead>\n",
       "  <tbody>\n",
       "    <tr>\n",
       "      <th>0</th>\n",
       "      <td>Automotive,E-Commerce,E-Commerce Platforms,Onl...</td>\n",
       "      <td>2016</td>\n",
       "      <td>Carlos Julio Garcia,Loreanne Garcia,Roger Laug...</td>\n",
       "      <td>Late Stage Venture</td>\n",
       "      <td>1001-5000</td>\n",
       "      <td>Sep 15, 2022</td>\n",
       "      <td>Debt Financing</td>\n",
       "      <td>$810,000,000</td>\n",
       "      <td>3</td>\n",
       "      <td>HSBC</td>\n",
       "      <td>Kavak</td>\n",
       "    </tr>\n",
       "    <tr>\n",
       "      <th>1</th>\n",
       "      <td>Media and Entertainment,Music,News,Software,Vi...</td>\n",
       "      <td>May 1, 2009</td>\n",
       "      <td>Joel Holland</td>\n",
       "      <td>M&amp;A</td>\n",
       "      <td>51-100</td>\n",
       "      <td>Jun 3, 2015</td>\n",
       "      <td>Debt Financing</td>\n",
       "      <td>$8,000,000</td>\n",
       "      <td>1</td>\n",
       "      <td>NaN</td>\n",
       "      <td>StoryBlocks</td>\n",
       "    </tr>\n",
       "    <tr>\n",
       "      <th>2</th>\n",
       "      <td>B2B,Internet,Marketplace</td>\n",
       "      <td>1998</td>\n",
       "      <td>NaN</td>\n",
       "      <td>Early Stage Venture</td>\n",
       "      <td>1001-5000</td>\n",
       "      <td>Jan 21, 2000</td>\n",
       "      <td>Series B</td>\n",
       "      <td>$55,000,000</td>\n",
       "      <td>6</td>\n",
       "      <td>TH Lee Putnam Ventures</td>\n",
       "      <td>Homepoint</td>\n",
       "    </tr>\n",
       "    <tr>\n",
       "      <th>3</th>\n",
       "      <td>B2B,Enterprise Software,Meeting Software,Produ...</td>\n",
       "      <td>2016</td>\n",
       "      <td>Alina Vandenberghe,Ivan Diachenko,Nicolas Vand...</td>\n",
       "      <td>Early Stage Venture</td>\n",
       "      <td>251-500</td>\n",
       "      <td>May 1, 2021</td>\n",
       "      <td>Secondary Market</td>\n",
       "      <td>NaN</td>\n",
       "      <td>1</td>\n",
       "      <td>NaN</td>\n",
       "      <td>Chili Piper</td>\n",
       "    </tr>\n",
       "    <tr>\n",
       "      <th>4</th>\n",
       "      <td>Banking,Collaboration,Finance,Financial Services</td>\n",
       "      <td>2017</td>\n",
       "      <td>Gil Mandelzis,Igor Teleshevsky,Thomas Glocer</td>\n",
       "      <td>Late Stage Venture</td>\n",
       "      <td>101-250</td>\n",
       "      <td>Mar 22, 2022</td>\n",
       "      <td>Series D</td>\n",
       "      <td>$110,000,000</td>\n",
       "      <td>11</td>\n",
       "      <td>9Yards Capital,Canapi Ventures,SVB Capital</td>\n",
       "      <td>Capitolis</td>\n",
       "    </tr>\n",
       "    <tr>\n",
       "      <th>...</th>\n",
       "      <td>...</td>\n",
       "      <td>...</td>\n",
       "      <td>...</td>\n",
       "      <td>...</td>\n",
       "      <td>...</td>\n",
       "      <td>...</td>\n",
       "      <td>...</td>\n",
       "      <td>...</td>\n",
       "      <td>...</td>\n",
       "      <td>...</td>\n",
       "      <td>...</td>\n",
       "    </tr>\n",
       "    <tr>\n",
       "      <th>969</th>\n",
       "      <td>Advertising,Advertising Platforms</td>\n",
       "      <td>2012</td>\n",
       "      <td>Alex Kronman,Joel Leger,Piper Jackson-Sevy</td>\n",
       "      <td>NaN</td>\n",
       "      <td>11-50</td>\n",
       "      <td>Oct 19, 2017</td>\n",
       "      <td>Venture - Series Unknown</td>\n",
       "      <td>$3,100,000</td>\n",
       "      <td>2</td>\n",
       "      <td>NaN</td>\n",
       "      <td>Flytedesk</td>\n",
       "    </tr>\n",
       "    <tr>\n",
       "      <th>970</th>\n",
       "      <td>Customer Service,Enterprise Software,SaaS</td>\n",
       "      <td>May 17, 2021</td>\n",
       "      <td>Douglas Hanna,Thomas Egger</td>\n",
       "      <td>Seed</td>\n",
       "      <td>11-50</td>\n",
       "      <td>Aug 5, 2014</td>\n",
       "      <td>Seed</td>\n",
       "      <td>$6,000,000</td>\n",
       "      <td>NaN</td>\n",
       "      <td>NaN</td>\n",
       "      <td>Help.com</td>\n",
       "    </tr>\n",
       "    <tr>\n",
       "      <th>971</th>\n",
       "      <td>Child Care,Children,Information Technology,Rid...</td>\n",
       "      <td>2014</td>\n",
       "      <td>Carolyn Yashari Becher,Janelle McGlothlin,Joan...</td>\n",
       "      <td>Late Stage Venture</td>\n",
       "      <td>101-250</td>\n",
       "      <td>Sep 13, 2022</td>\n",
       "      <td>Series D</td>\n",
       "      <td>$37,000,000</td>\n",
       "      <td>12</td>\n",
       "      <td>NaN</td>\n",
       "      <td>HopSkipDrive</td>\n",
       "    </tr>\n",
       "    <tr>\n",
       "      <th>972</th>\n",
       "      <td>E-Commerce,Fashion,Lifestyle,Retail,Shoes,Wear...</td>\n",
       "      <td>2010</td>\n",
       "      <td>Jill Layfield,Tamara Mellon</td>\n",
       "      <td>Late Stage Venture</td>\n",
       "      <td>11-50</td>\n",
       "      <td>Jun 17, 2019</td>\n",
       "      <td>Series C</td>\n",
       "      <td>$50,000,000</td>\n",
       "      <td>3</td>\n",
       "      <td>Centricus</td>\n",
       "      <td>Tamara Mellon</td>\n",
       "    </tr>\n",
       "    <tr>\n",
       "      <th>973</th>\n",
       "      <td>Delivery,E-Commerce,Logistics,Shipping</td>\n",
       "      <td>Nov 5, 2012</td>\n",
       "      <td>Jarrett Streebin,Jon Calhoun</td>\n",
       "      <td>Early Stage Venture</td>\n",
       "      <td>251-500</td>\n",
       "      <td>Sep 9, 2021</td>\n",
       "      <td>Series B</td>\n",
       "      <td>$25,000,000</td>\n",
       "      <td>2</td>\n",
       "      <td>NaN</td>\n",
       "      <td>EasyPost</td>\n",
       "    </tr>\n",
       "  </tbody>\n",
       "</table>\n",
       "<p>974 rows × 11 columns</p>\n",
       "</div>"
      ],
      "text/plain": [
       "                                            Categories  Founded Date  \\\n",
       "0    Automotive,E-Commerce,E-Commerce Platforms,Onl...          2016   \n",
       "1    Media and Entertainment,Music,News,Software,Vi...   May 1, 2009   \n",
       "2                             B2B,Internet,Marketplace          1998   \n",
       "3    B2B,Enterprise Software,Meeting Software,Produ...          2016   \n",
       "4     Banking,Collaboration,Finance,Financial Services          2017   \n",
       "..                                                 ...           ...   \n",
       "969                  Advertising,Advertising Platforms          2012   \n",
       "970          Customer Service,Enterprise Software,SaaS  May 17, 2021   \n",
       "971  Child Care,Children,Information Technology,Rid...          2014   \n",
       "972  E-Commerce,Fashion,Lifestyle,Retail,Shoes,Wear...          2010   \n",
       "973             Delivery,E-Commerce,Logistics,Shipping   Nov 5, 2012   \n",
       "\n",
       "                                              Founders       Funding Status  \\\n",
       "0    Carlos Julio Garcia,Loreanne Garcia,Roger Laug...   Late Stage Venture   \n",
       "1                                         Joel Holland                  M&A   \n",
       "2                                                  NaN  Early Stage Venture   \n",
       "3    Alina Vandenberghe,Ivan Diachenko,Nicolas Vand...  Early Stage Venture   \n",
       "4         Gil Mandelzis,Igor Teleshevsky,Thomas Glocer   Late Stage Venture   \n",
       "..                                                 ...                  ...   \n",
       "969         Alex Kronman,Joel Leger,Piper Jackson-Sevy                  NaN   \n",
       "970                         Douglas Hanna,Thomas Egger                 Seed   \n",
       "971  Carolyn Yashari Becher,Janelle McGlothlin,Joan...   Late Stage Venture   \n",
       "972                        Jill Layfield,Tamara Mellon   Late Stage Venture   \n",
       "973                       Jarrett Streebin,Jon Calhoun  Early Stage Venture   \n",
       "\n",
       "    Number of Employees Announced Date              Funding Type  \\\n",
       "0             1001-5000   Sep 15, 2022            Debt Financing   \n",
       "1                51-100    Jun 3, 2015            Debt Financing   \n",
       "2             1001-5000   Jan 21, 2000                  Series B   \n",
       "3               251-500    May 1, 2021          Secondary Market   \n",
       "4               101-250   Mar 22, 2022                  Series D   \n",
       "..                  ...            ...                       ...   \n",
       "969               11-50   Oct 19, 2017  Venture - Series Unknown   \n",
       "970               11-50    Aug 5, 2014                      Seed   \n",
       "971             101-250   Sep 13, 2022                  Series D   \n",
       "972               11-50   Jun 17, 2019                  Series C   \n",
       "973             251-500    Sep 9, 2021                  Series B   \n",
       "\n",
       "     Money Raised Total Investors                              Lead Investors  \\\n",
       "0    $810,000,000               3                                        HSBC   \n",
       "1      $8,000,000               1                                         NaN   \n",
       "2     $55,000,000               6                      TH Lee Putnam Ventures   \n",
       "3             NaN               1                                         NaN   \n",
       "4    $110,000,000              11  9Yards Capital,Canapi Ventures,SVB Capital   \n",
       "..            ...             ...                                         ...   \n",
       "969    $3,100,000               2                                         NaN   \n",
       "970    $6,000,000             NaN                                         NaN   \n",
       "971   $37,000,000              12                                         NaN   \n",
       "972   $50,000,000               3                                   Centricus   \n",
       "973   $25,000,000               2                                         NaN   \n",
       "\n",
       "           company  \n",
       "0            Kavak  \n",
       "1      StoryBlocks  \n",
       "2        Homepoint  \n",
       "3      Chili Piper  \n",
       "4        Capitolis  \n",
       "..             ...  \n",
       "969      Flytedesk  \n",
       "970       Help.com  \n",
       "971   HopSkipDrive  \n",
       "972  Tamara Mellon  \n",
       "973       EasyPost  \n",
       "\n",
       "[974 rows x 11 columns]"
      ]
     },
     "execution_count": 402,
     "metadata": {},
     "output_type": "execute_result"
    }
   ],
   "source": [
    "private_companies_df"
   ]
  },
  {
   "cell_type": "markdown",
   "id": "113b01df",
   "metadata": {},
   "source": [
    "We have to take this data with a grain of salt as it's based around searching using company names, but overall it looks sensible. We can rely on some heuristics to filter possible anomalies but let's keep that to when we start the analysis.\n",
    "\n",
    "With this much information gathered, I think we have sufficient data to start an analysis!\n",
    "\n",
    "This will be in a separate notebook than this one."
   ]
  }
 ],
 "metadata": {
  "kernelspec": {
   "display_name": "Python 3 (ipykernel)",
   "language": "python",
   "name": "python3"
  },
  "language_info": {
   "codemirror_mode": {
    "name": "ipython",
    "version": 3
   },
   "file_extension": ".py",
   "mimetype": "text/x-python",
   "name": "python",
   "nbconvert_exporter": "python",
   "pygments_lexer": "ipython3",
   "version": "3.9.7"
  }
 },
 "nbformat": 4,
 "nbformat_minor": 5
}
